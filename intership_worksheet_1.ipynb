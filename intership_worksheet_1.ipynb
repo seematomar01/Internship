{
 "cells": [
  {
   "cell_type": "code",
   "execution_count": 1,
   "id": "f4763aa9",
   "metadata": {},
   "outputs": [],
   "source": [
    "#Q1  Which of the following operators is used to calculate remainder in a division?\n"
   ]
  },
  {
   "cell_type": "code",
   "execution_count": 2,
   "id": "0edd997f",
   "metadata": {},
   "outputs": [
    {
     "data": {
      "text/plain": [
       "3"
      ]
     },
     "execution_count": 2,
     "metadata": {},
     "output_type": "execute_result"
    }
   ],
   "source": [
    "a=23%5\n",
    "a"
   ]
  },
  {
   "cell_type": "code",
   "execution_count": 3,
   "id": "0ecccff5",
   "metadata": {},
   "outputs": [],
   "source": [
    "#Q2 In python 2//3 is equal to?"
   ]
  },
  {
   "cell_type": "code",
   "execution_count": 4,
   "id": "f98567e3",
   "metadata": {},
   "outputs": [
    {
     "data": {
      "text/plain": [
       "0"
      ]
     },
     "execution_count": 4,
     "metadata": {},
     "output_type": "execute_result"
    }
   ],
   "source": [
    "2//3"
   ]
  },
  {
   "cell_type": "code",
   "execution_count": 5,
   "id": "ccc3dfca",
   "metadata": {},
   "outputs": [],
   "source": [
    "#Q3 In python, 6<<2 is equal to?"
   ]
  },
  {
   "cell_type": "code",
   "execution_count": 6,
   "id": "b5db280c",
   "metadata": {},
   "outputs": [
    {
     "data": {
      "text/plain": [
       "24"
      ]
     },
     "execution_count": 6,
     "metadata": {},
     "output_type": "execute_result"
    }
   ],
   "source": [
    "6<<2"
   ]
  },
  {
   "cell_type": "code",
   "execution_count": 7,
   "id": "7787ec7f",
   "metadata": {},
   "outputs": [],
   "source": [
    "#Q4 In python, 6&2 will give which of the following as output?\n"
   ]
  },
  {
   "cell_type": "code",
   "execution_count": 8,
   "id": "2e6ff3d0",
   "metadata": {},
   "outputs": [
    {
     "data": {
      "text/plain": [
       "2"
      ]
     },
     "execution_count": 8,
     "metadata": {},
     "output_type": "execute_result"
    }
   ],
   "source": [
    "6&2"
   ]
  },
  {
   "cell_type": "code",
   "execution_count": 9,
   "id": "374a5eb9",
   "metadata": {},
   "outputs": [],
   "source": [
    "#Q5 In python, 6|2 will give which of the following as output?"
   ]
  },
  {
   "cell_type": "code",
   "execution_count": 10,
   "id": "8ccc8d24",
   "metadata": {},
   "outputs": [
    {
     "data": {
      "text/plain": [
       "6"
      ]
     },
     "execution_count": 10,
     "metadata": {},
     "output_type": "execute_result"
    }
   ],
   "source": [
    "6|2"
   ]
  },
  {
   "cell_type": "code",
   "execution_count": 11,
   "id": "38f3f450",
   "metadata": {},
   "outputs": [],
   "source": [
    "#Q6 What does the finally keyword denotes in python?"
   ]
  },
  {
   "cell_type": "code",
   "execution_count": 12,
   "id": "25a86ab4",
   "metadata": {},
   "outputs": [],
   "source": [
    "# Ans: C"
   ]
  },
  {
   "cell_type": "code",
   "execution_count": 13,
   "id": "c7c5c843",
   "metadata": {},
   "outputs": [],
   "source": [
    "#Q7 What does raise keyword is used for in python?\n"
   ]
  },
  {
   "cell_type": "code",
   "execution_count": 14,
   "id": "72498b19",
   "metadata": {},
   "outputs": [],
   "source": [
    "#Ans:A"
   ]
  },
  {
   "cell_type": "code",
   "execution_count": 15,
   "id": "c357863d",
   "metadata": {},
   "outputs": [],
   "source": [
    "#Q8 Which of the following is a common use case of yield keyword in python?"
   ]
  },
  {
   "cell_type": "code",
   "execution_count": 16,
   "id": "17e53374",
   "metadata": {},
   "outputs": [],
   "source": [
    "#Ans: C"
   ]
  },
  {
   "cell_type": "code",
   "execution_count": 17,
   "id": "c90d105e",
   "metadata": {},
   "outputs": [],
   "source": [
    "#Q9 Which of the following are the valid variable names?"
   ]
  },
  {
   "cell_type": "code",
   "execution_count": 18,
   "id": "4dc1caff",
   "metadata": {},
   "outputs": [],
   "source": [
    "#Ans: A & C"
   ]
  },
  {
   "cell_type": "code",
   "execution_count": 19,
   "id": "61177924",
   "metadata": {},
   "outputs": [],
   "source": [
    "#Q10  Which of the following are the keywords in python?"
   ]
  },
  {
   "cell_type": "code",
   "execution_count": 20,
   "id": "759ab714",
   "metadata": {},
   "outputs": [],
   "source": [
    "#Ans: D"
   ]
  },
  {
   "cell_type": "code",
   "execution_count": 21,
   "id": "d2d51007",
   "metadata": {},
   "outputs": [],
   "source": [
    "#Q11 Write a python program to find the factorial of a number.\n"
   ]
  },
  {
   "cell_type": "code",
   "execution_count": 22,
   "id": "3a1d029a",
   "metadata": {},
   "outputs": [
    {
     "name": "stdout",
     "output_type": "stream",
     "text": [
      "Enter a number: 4\n",
      "The factorial of 4 is 24\n"
     ]
    }
   ],
   "source": [
    "num = int(input(\"Enter a number: \"))    \n",
    "factorial = 1    \n",
    "if num < 0:    \n",
    "   print(\" Factorial does not exist for negative numbers\")    \n",
    "elif num == 0:    \n",
    "   print(\"The factorial of 0 is 1\")    \n",
    "else:    \n",
    "   for i in range(1,num + 1):    \n",
    "       factorial = factorial*i    \n",
    "   print(\"The factorial of\",num,\"is\",factorial)   "
   ]
  },
  {
   "cell_type": "code",
   "execution_count": 23,
   "id": "6a756e1f",
   "metadata": {},
   "outputs": [],
   "source": [
    "#Q12 Write a python program to find whether a number is prime or composite"
   ]
  },
  {
   "cell_type": "code",
   "execution_count": 24,
   "id": "cbefc676",
   "metadata": {},
   "outputs": [
    {
     "name": "stdout",
     "output_type": "stream",
     "text": [
      "Enter any number:3\n",
      "3 number is prime but not composite number\n"
     ]
    }
   ],
   "source": [
    "n= int(input(\"Enter any number:\"))\n",
    "if(n ==0 or n == 1):\n",
    "    print(n,\"Number is neither prime nor composite\")\n",
    "elif n>1 :\n",
    "    for i in range(2,n):\n",
    "        if(n%i == 0):\n",
    "            print(n,\"is not prime but composite number\")\n",
    "            break\n",
    "    else:\n",
    "        print(n,\"number is prime but not composite number\")\n",
    "else :\n",
    "    print(\"Please enter positive number only \")"
   ]
  },
  {
   "cell_type": "code",
   "execution_count": 25,
   "id": "87198703",
   "metadata": {},
   "outputs": [],
   "source": [
    "#Q13 Write a python program to check whether a given string is palindrome or not"
   ]
  },
  {
   "cell_type": "code",
   "execution_count": 26,
   "id": "abdcc93a",
   "metadata": {},
   "outputs": [
    {
     "name": "stdout",
     "output_type": "stream",
     "text": [
      "Yes\n"
     ]
    }
   ],
   "source": [
    "def isPalindrome(s):\n",
    "    return s == s[::-1]\n",
    " \n",
    " \n",
    "# Driver code\n",
    "s = \"malayalam\"\n",
    "ans = isPalindrome(s)\n",
    " \n",
    "if ans:\n",
    "    print(\"Yes\")\n",
    "else:\n",
    "    print(\"No\")"
   ]
  },
  {
   "cell_type": "code",
   "execution_count": 27,
   "id": "ad1d709c",
   "metadata": {},
   "outputs": [],
   "source": [
    "#Q14  Write a Python program to get the third side of right-angled triangle from two given sides"
   ]
  },
  {
   "cell_type": "code",
   "execution_count": 28,
   "id": "8fb11048",
   "metadata": {},
   "outputs": [
    {
     "name": "stdout",
     "output_type": "stream",
     "text": [
      "Hypotenuse = 5.0\n",
      "Adjacent = 4.0\n",
      "Opposite = 3.0\n",
      "You know the answer!\n"
     ]
    }
   ],
   "source": [
    "def pythagoras(opposite_side,adjacent_side,hypotenuse):\n",
    "        if opposite_side == str(\"x\"):\n",
    "            return (\"Opposite = \" + str(((hypotenuse**2) - (adjacent_side**2))**0.5))\n",
    "        elif adjacent_side == str(\"x\"):\n",
    "            return (\"Adjacent = \" + str(((hypotenuse**2) - (opposite_side**2))**0.5))\n",
    "        elif hypotenuse == str(\"x\"):\n",
    "            return (\"Hypotenuse = \" + str(((opposite_side**2) + (adjacent_side**2))**0.5))\n",
    "        else:\n",
    "            return \"You know the answer!\"\n",
    "    \n",
    "print(pythagoras(3,4,'x'))\n",
    "print(pythagoras(3,'x',5))\n",
    "print(pythagoras('x',4,5))\n",
    "print(pythagoras(3,4,5))"
   ]
  },
  {
   "cell_type": "code",
   "execution_count": 29,
   "id": "aae7beca",
   "metadata": {},
   "outputs": [],
   "source": [
    "#Q15 Write a python program to print the frequency of each of the characters present in a given string"
   ]
  },
  {
   "cell_type": "code",
   "execution_count": 30,
   "id": "b92e8235",
   "metadata": {},
   "outputs": [
    {
     "name": "stdout",
     "output_type": "stream",
     "text": [
      "Enter the string seema\n",
      "Character and their frequency\n",
      "s=1\n",
      "e=2\n",
      "m=1\n",
      "a=1\n"
     ]
    }
   ],
   "source": [
    "string=input(\"Enter the string \")\n",
    "freq=[None]*len(string)\n",
    "for i in range(0,len(string)):\n",
    "  freq[i]=1\n",
    "  for j in range(i+1,len(string)):\n",
    "    if(string[i]==string[j]):\n",
    "        freq[i]=freq[i]+1\n",
    "        string=string[:j]+'0'+string[j+1:];\n",
    "print(\"Character and their frequency\");\n",
    "for i in range(0,len(freq)):\n",
    "    if(string[i]!=' ' and string[i]!='0'):\n",
    "        print(string[i]+\"=\"+str(freq[i]))"
   ]
  },
  {
   "cell_type": "code",
   "execution_count": 31,
   "id": "d1463eb6",
   "metadata": {},
   "outputs": [
    {
     "data": {
      "text/plain": [
       "'C:\\\\Users\\\\LENOVO'"
      ]
     },
     "execution_count": 31,
     "metadata": {},
     "output_type": "execute_result"
    }
   ],
   "source": [
    "pwd"
   ]
  },
  {
   "cell_type": "code",
   "execution_count": null,
   "id": "4dba95cb",
   "metadata": {},
   "outputs": [],
   "source": []
  }
 ],
 "metadata": {
  "kernelspec": {
   "display_name": "Python 3",
   "language": "python",
   "name": "python3"
  },
  "language_info": {
   "codemirror_mode": {
    "name": "ipython",
    "version": 3
   },
   "file_extension": ".py",
   "mimetype": "text/x-python",
   "name": "python",
   "nbconvert_exporter": "python",
   "pygments_lexer": "ipython3",
   "version": "3.8.8"
  }
 },
 "nbformat": 4,
 "nbformat_minor": 5
}
