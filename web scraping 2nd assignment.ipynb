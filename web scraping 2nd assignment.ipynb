{
 "cells": [
  {
   "cell_type": "markdown",
   "id": "7b5f7ac8",
   "metadata": {},
   "source": [
    "Q1: Write a python program to scrape data for “Data Analyst” Job position in “Bangalore” location. You \n",
    "have to scrape the job-title, job-location, company_name, experience_required. You have to scrape first 10 \n",
    "jobs data. \n",
    "This task will be done in following steps: \n",
    "1. First get the webpage https://www.naukri.com/ 2. Enter “Data Analyst” in “Skill, Designations, Companies” field and enter “Bangalore” in “enter the \n",
    "location” field. \n",
    "3. Then click the search button. \n",
    "4. Then scrape the data for the first 10 jobs results you get. \n",
    "5. Finally create a dataframe of the scraped data."
   ]
  },
  {
   "cell_type": "code",
   "execution_count": 1,
   "id": "4c75c7e1",
   "metadata": {},
   "outputs": [],
   "source": [
    "# Install selenium library"
   ]
  },
  {
   "cell_type": "code",
   "execution_count": 2,
   "id": "51131840",
   "metadata": {},
   "outputs": [
    {
     "name": "stdout",
     "output_type": "stream",
     "text": [
      "Requirement already satisfied: selenium in c:\\users\\lenovo\\anaconda3\\lib\\site-packages (4.1.0)\n",
      "Requirement already satisfied: trio-websocket~=0.9 in c:\\users\\lenovo\\anaconda3\\lib\\site-packages (from selenium) (0.9.2)\n",
      "Requirement already satisfied: trio~=0.17 in c:\\users\\lenovo\\anaconda3\\lib\\site-packages (from selenium) (0.19.0)\n",
      "Requirement already satisfied: urllib3[secure]~=1.26 in c:\\users\\lenovo\\anaconda3\\lib\\site-packages (from selenium) (1.26.4)\n",
      "Requirement already satisfied: async-generator>=1.9 in c:\\users\\lenovo\\anaconda3\\lib\\site-packages (from trio~=0.17->selenium) (1.10)\n",
      "Requirement already satisfied: outcome in c:\\users\\lenovo\\anaconda3\\lib\\site-packages (from trio~=0.17->selenium) (1.1.0)\n",
      "Requirement already satisfied: idna in c:\\users\\lenovo\\anaconda3\\lib\\site-packages (from trio~=0.17->selenium) (2.10)\n",
      "Requirement already satisfied: sortedcontainers in c:\\users\\lenovo\\anaconda3\\lib\\site-packages (from trio~=0.17->selenium) (2.3.0)\n",
      "Requirement already satisfied: sniffio in c:\\users\\lenovo\\anaconda3\\lib\\site-packages (from trio~=0.17->selenium) (1.2.0)\n",
      "Requirement already satisfied: cffi>=1.14 in c:\\users\\lenovo\\anaconda3\\lib\\site-packages (from trio~=0.17->selenium) (1.14.5)\n",
      "Requirement already satisfied: attrs>=19.2.0 in c:\\users\\lenovo\\anaconda3\\lib\\site-packages (from trio~=0.17->selenium) (20.3.0)\n",
      "Requirement already satisfied: pycparser in c:\\users\\lenovo\\anaconda3\\lib\\site-packages (from cffi>=1.14->trio~=0.17->selenium) (2.20)\n",
      "Requirement already satisfied: wsproto>=0.14 in c:\\users\\lenovo\\anaconda3\\lib\\site-packages (from trio-websocket~=0.9->selenium) (1.0.0)\n",
      "Requirement already satisfied: pyOpenSSL>=0.14 in c:\\users\\lenovo\\anaconda3\\lib\\site-packages (from urllib3[secure]~=1.26->selenium) (20.0.1)\n",
      "Requirement already satisfied: cryptography>=1.3.4 in c:\\users\\lenovo\\anaconda3\\lib\\site-packages (from urllib3[secure]~=1.26->selenium) (3.4.7)\n",
      "Requirement already satisfied: certifi in c:\\users\\lenovo\\anaconda3\\lib\\site-packages (from urllib3[secure]~=1.26->selenium) (2020.12.5)\n",
      "Requirement already satisfied: six>=1.5.2 in c:\\users\\lenovo\\anaconda3\\lib\\site-packages (from pyOpenSSL>=0.14->urllib3[secure]~=1.26->selenium) (1.15.0)\n",
      "Requirement already satisfied: h11<1,>=0.9.0 in c:\\users\\lenovo\\anaconda3\\lib\\site-packages (from wsproto>=0.14->trio-websocket~=0.9->selenium) (0.12.0)\n"
     ]
    }
   ],
   "source": [
    "! pip install selenium"
   ]
  },
  {
   "cell_type": "code",
   "execution_count": 3,
   "id": "7956d513",
   "metadata": {},
   "outputs": [],
   "source": [
    "# Import all required libaray"
   ]
  },
  {
   "cell_type": "code",
   "execution_count": 4,
   "id": "5adc2ea4",
   "metadata": {},
   "outputs": [],
   "source": [
    "import pandas as pd\n",
    "import selenium\n",
    "from selenium import webdriver"
   ]
  },
  {
   "cell_type": "code",
   "execution_count": 12,
   "id": "23cccc52",
   "metadata": {},
   "outputs": [
    {
     "name": "stderr",
     "output_type": "stream",
     "text": [
      "<ipython-input-12-49b786261939>:2: DeprecationWarning: executable_path has been deprecated, please pass in a Service object\n",
      "  driver= webdriver.Chrome(r\"C:/Users/LENOVO/Downloads/chromedriver_win32/chromedriver\")\n"
     ]
    }
   ],
   "source": [
    "# Connect to the webdriver\n",
    "driver= webdriver.Chrome(r\"C:/Users/LENOVO/Downloads/chromedriver_win32/chromedriver\")"
   ]
  },
  {
   "cell_type": "code",
   "execution_count": 6,
   "id": "beba7666",
   "metadata": {},
   "outputs": [],
   "source": [
    "# for closing driver we use driver.close()"
   ]
  },
  {
   "cell_type": "code",
   "execution_count": 13,
   "id": "d9508094",
   "metadata": {},
   "outputs": [],
   "source": [
    "driver.get(' https://www.naukri.com/')"
   ]
  },
  {
   "cell_type": "code",
   "execution_count": 14,
   "id": "bf6571bd",
   "metadata": {},
   "outputs": [
    {
     "name": "stderr",
     "output_type": "stream",
     "text": [
      "<ipython-input-14-d6d6a0d1a0e5>:2: DeprecationWarning: find_element_by_* commands are deprecated. Please use find_element() instead\n",
      "  search_job= driver.find_element_by_id('qsb-keyword-sugg')\n",
      "<ipython-input-14-d6d6a0d1a0e5>:4: DeprecationWarning: find_element_by_* commands are deprecated. Please use find_element() instead\n",
      "  search_loc= driver.find_element_by_xpath(\"//input[@id='qsb-location-sugg']\")\n",
      "<ipython-input-14-d6d6a0d1a0e5>:6: DeprecationWarning: find_element_by_* commands are deprecated. Please use find_element() instead\n",
      "  search_btn= driver.find_element_by_xpath(\"//div[@class='search-btn']/button\")\n"
     ]
    }
   ],
   "source": [
    "#find element of job search bar\n",
    "search_job= driver.find_element_by_id('qsb-keyword-sugg')\n",
    "search_job.send_keys(\"Data Analyst\")\n",
    "search_loc= driver.find_element_by_xpath(\"//input[@id='qsb-location-sugg']\")\n",
    "search_loc.send_keys(\"Bangalore\")\n",
    "search_btn= driver.find_element_by_xpath(\"//div[@class='search-btn']/button\")\n",
    "search_btn.click()\n"
   ]
  },
  {
   "cell_type": "code",
   "execution_count": 15,
   "id": "febadd42",
   "metadata": {},
   "outputs": [],
   "source": [
    "#extract the data\n",
    "job_title=[]\n",
    "job_location=[]\n",
    "company_name=[]\n",
    "experience_required=[]"
   ]
  },
  {
   "cell_type": "code",
   "execution_count": 16,
   "id": "5ec07573",
   "metadata": {},
   "outputs": [
    {
     "name": "stderr",
     "output_type": "stream",
     "text": [
      "<ipython-input-16-f9b078f72776>:1: DeprecationWarning: find_elements_by_* commands are deprecated. Please use find_elements() instead\n",
      "  title_tag= driver.find_elements_by_xpath(\"//a[@class='title fw500 ellipsis']\")\n"
     ]
    },
    {
     "data": {
      "text/plain": [
       "[<selenium.webdriver.remote.webelement.WebElement (session=\"1fae83c560569b5a60c79c35171bfa23\", element=\"8b5d50c6-cb15-49e2-a55c-1601157ebc87\")>,\n",
       " <selenium.webdriver.remote.webelement.WebElement (session=\"1fae83c560569b5a60c79c35171bfa23\", element=\"053cc15d-bd6c-426e-b54b-d7d2b5af0138\")>,\n",
       " <selenium.webdriver.remote.webelement.WebElement (session=\"1fae83c560569b5a60c79c35171bfa23\", element=\"9b779ce2-e70a-45c8-9a26-cc9fc55f78f9\")>,\n",
       " <selenium.webdriver.remote.webelement.WebElement (session=\"1fae83c560569b5a60c79c35171bfa23\", element=\"58bddcb9-5e38-4978-b5dd-07cd03c43e37\")>,\n",
       " <selenium.webdriver.remote.webelement.WebElement (session=\"1fae83c560569b5a60c79c35171bfa23\", element=\"4db027b2-9e72-46de-96ef-e089ac324e21\")>,\n",
       " <selenium.webdriver.remote.webelement.WebElement (session=\"1fae83c560569b5a60c79c35171bfa23\", element=\"d7410a35-b779-4f14-8824-1da67ea0ab7c\")>,\n",
       " <selenium.webdriver.remote.webelement.WebElement (session=\"1fae83c560569b5a60c79c35171bfa23\", element=\"b12ea035-7df8-46d8-bd08-8a8327a13d0f\")>,\n",
       " <selenium.webdriver.remote.webelement.WebElement (session=\"1fae83c560569b5a60c79c35171bfa23\", element=\"56528869-005d-45e4-b18b-b52c563c6ece\")>,\n",
       " <selenium.webdriver.remote.webelement.WebElement (session=\"1fae83c560569b5a60c79c35171bfa23\", element=\"33b79c43-aae8-4961-9ee9-620234d159d4\")>,\n",
       " <selenium.webdriver.remote.webelement.WebElement (session=\"1fae83c560569b5a60c79c35171bfa23\", element=\"e345a4d6-6c26-4b8a-b4ba-b3977bb5e9ee\")>]"
      ]
     },
     "execution_count": 16,
     "metadata": {},
     "output_type": "execute_result"
    }
   ],
   "source": [
    "title_tag= driver.find_elements_by_xpath(\"//a[@class='title fw500 ellipsis']\")\n",
    "title_tag[0:10]"
   ]
  },
  {
   "cell_type": "code",
   "execution_count": 17,
   "id": "07933657",
   "metadata": {},
   "outputs": [
    {
     "data": {
      "text/plain": [
       "['Hiring -Data Analyst, Business Analyst, MIS Analyst -3rd Party Payroll',\n",
       " 'Senior Data Analyst III',\n",
       " 'Data Analyst',\n",
       " 'Business Analyst/ Data Analyst- Capital Market & SQL (Mandatory)',\n",
       " 'Customer Data Management Analyst',\n",
       " 'Assistant/deputy Manager - Geo-spatial Data Analyst',\n",
       " 'Senior Data Analyst',\n",
       " 'Senior Data Analyst',\n",
       " 'Senior Data Analyst',\n",
       " 'Openings For SQL Data Analyst']"
      ]
     },
     "execution_count": 17,
     "metadata": {},
     "output_type": "execute_result"
    }
   ],
   "source": [
    "#extract the text\n",
    "for i in title_tag:\n",
    "    job_title.append(i.text)\n",
    "job_title= job_title[0:10] \n",
    "job_title"
   ]
  },
  {
   "cell_type": "code",
   "execution_count": 18,
   "id": "544992c8",
   "metadata": {},
   "outputs": [
    {
     "name": "stderr",
     "output_type": "stream",
     "text": [
      "<ipython-input-18-fff16a5b4de2>:2: DeprecationWarning: find_elements_by_* commands are deprecated. Please use find_elements() instead\n",
      "  company_tag= driver.find_elements_by_xpath(\"//a[@class='subTitle ellipsis fleft']\")\n"
     ]
    },
    {
     "data": {
      "text/plain": [
       "[<selenium.webdriver.remote.webelement.WebElement (session=\"1fae83c560569b5a60c79c35171bfa23\", element=\"e64ddeab-51d0-443b-9a21-e5962503d122\")>,\n",
       " <selenium.webdriver.remote.webelement.WebElement (session=\"1fae83c560569b5a60c79c35171bfa23\", element=\"fb60a01b-056e-4e25-b76c-4765cebdbe30\")>,\n",
       " <selenium.webdriver.remote.webelement.WebElement (session=\"1fae83c560569b5a60c79c35171bfa23\", element=\"4b66e2fa-5c38-4279-b355-7441e6fb6561\")>,\n",
       " <selenium.webdriver.remote.webelement.WebElement (session=\"1fae83c560569b5a60c79c35171bfa23\", element=\"7a6932d8-2f94-473e-808b-964d256fab7f\")>,\n",
       " <selenium.webdriver.remote.webelement.WebElement (session=\"1fae83c560569b5a60c79c35171bfa23\", element=\"1310dd4b-97e2-409c-9e7f-37f353e906e2\")>,\n",
       " <selenium.webdriver.remote.webelement.WebElement (session=\"1fae83c560569b5a60c79c35171bfa23\", element=\"e4f77fd9-61af-4d89-ac32-561eb7117ff7\")>,\n",
       " <selenium.webdriver.remote.webelement.WebElement (session=\"1fae83c560569b5a60c79c35171bfa23\", element=\"784c3e82-4791-4f04-8f10-92a8063e4217\")>,\n",
       " <selenium.webdriver.remote.webelement.WebElement (session=\"1fae83c560569b5a60c79c35171bfa23\", element=\"e6d4c3f6-68a6-49d1-a6e5-528d13b176e7\")>,\n",
       " <selenium.webdriver.remote.webelement.WebElement (session=\"1fae83c560569b5a60c79c35171bfa23\", element=\"4704937b-12a2-437c-815a-4369b6d15dbf\")>,\n",
       " <selenium.webdriver.remote.webelement.WebElement (session=\"1fae83c560569b5a60c79c35171bfa23\", element=\"08671e0a-80ee-4587-b202-fffd15fb1808\")>]"
      ]
     },
     "execution_count": 18,
     "metadata": {},
     "output_type": "execute_result"
    }
   ],
   "source": [
    "# now scrap company tag\n",
    "company_tag= driver.find_elements_by_xpath(\"//a[@class='subTitle ellipsis fleft']\")\n",
    "company_tag[0:10]"
   ]
  },
  {
   "cell_type": "code",
   "execution_count": 19,
   "id": "6a1ed96b",
   "metadata": {},
   "outputs": [
    {
     "data": {
      "text/plain": [
       "['Flipkart',\n",
       " 'Flipkart',\n",
       " 'GlaxoSmithKline Pharmaceuticals Limited',\n",
       " 'Genpact',\n",
       " 'Aspect',\n",
       " 'Maruti Suzuki India',\n",
       " 'SYREN TECHNOLOGIES PRIVATE LIMITED',\n",
       " 'Rapido',\n",
       " 'Flipkart',\n",
       " 'StackNexus Technologies India Pvt. Ltd']"
      ]
     },
     "execution_count": 19,
     "metadata": {},
     "output_type": "execute_result"
    }
   ],
   "source": [
    "#extract the text\n",
    "for j in company_tag:\n",
    "    company_name.append(j.text)\n",
    "company_name=company_name[0:10]\n",
    "company_name"
   ]
  },
  {
   "cell_type": "code",
   "execution_count": 20,
   "id": "e11daa71",
   "metadata": {},
   "outputs": [
    {
     "name": "stderr",
     "output_type": "stream",
     "text": [
      "<ipython-input-20-bf74d7db3f30>:2: DeprecationWarning: find_elements_by_* commands are deprecated. Please use find_elements() instead\n",
      "  location_tag= driver.find_elements_by_xpath(\"//li[@class='fleft grey-text br2 placeHolderLi location']/span[1]\")\n"
     ]
    },
    {
     "data": {
      "text/plain": [
       "[<selenium.webdriver.remote.webelement.WebElement (session=\"1fae83c560569b5a60c79c35171bfa23\", element=\"89692bb1-1936-4268-ba19-efbc8dd99d74\")>,\n",
       " <selenium.webdriver.remote.webelement.WebElement (session=\"1fae83c560569b5a60c79c35171bfa23\", element=\"2f3eae65-fa76-4886-a6e4-4db9956762eb\")>,\n",
       " <selenium.webdriver.remote.webelement.WebElement (session=\"1fae83c560569b5a60c79c35171bfa23\", element=\"4dcc85b6-09c5-40fe-abe4-c7741b6d305f\")>,\n",
       " <selenium.webdriver.remote.webelement.WebElement (session=\"1fae83c560569b5a60c79c35171bfa23\", element=\"1dc98410-0ec9-4503-b99b-d0abdda64a13\")>,\n",
       " <selenium.webdriver.remote.webelement.WebElement (session=\"1fae83c560569b5a60c79c35171bfa23\", element=\"9500cfff-f9ca-44bb-baaf-b73683dd6561\")>,\n",
       " <selenium.webdriver.remote.webelement.WebElement (session=\"1fae83c560569b5a60c79c35171bfa23\", element=\"27f1aa1e-85da-4334-b42d-01d439b785ff\")>,\n",
       " <selenium.webdriver.remote.webelement.WebElement (session=\"1fae83c560569b5a60c79c35171bfa23\", element=\"47dd29ea-be14-44ae-984e-25d1a52c50d6\")>,\n",
       " <selenium.webdriver.remote.webelement.WebElement (session=\"1fae83c560569b5a60c79c35171bfa23\", element=\"74616464-529d-46c9-83ec-c41824976878\")>,\n",
       " <selenium.webdriver.remote.webelement.WebElement (session=\"1fae83c560569b5a60c79c35171bfa23\", element=\"57fb8da2-6f26-4c86-b7e3-8300b4db205b\")>,\n",
       " <selenium.webdriver.remote.webelement.WebElement (session=\"1fae83c560569b5a60c79c35171bfa23\", element=\"deacd981-89b9-4547-ac54-d3e3d9752a5c\")>]"
      ]
     },
     "execution_count": 20,
     "metadata": {},
     "output_type": "execute_result"
    }
   ],
   "source": [
    "# scrap the location tag\n",
    "location_tag= driver.find_elements_by_xpath(\"//li[@class='fleft grey-text br2 placeHolderLi location']/span[1]\")\n",
    "location_tag[0:10]"
   ]
  },
  {
   "cell_type": "code",
   "execution_count": 21,
   "id": "8bf7a57a",
   "metadata": {},
   "outputs": [
    {
     "data": {
      "text/plain": [
       "['Bangalore/Bengaluru',\n",
       " 'Bengaluru/Bangalore',\n",
       " 'Bangalore/Bengaluru',\n",
       " 'Pune, Bangalore/Bengaluru',\n",
       " 'Bangalore/Bengaluru',\n",
       " 'Gurgaon/Gurugram, bangalore',\n",
       " 'Kolkata, Hyderabad/Secunderabad, Pune, Ahmedabad, Chennai, Bangalore/Bengaluru, Delhi / NCR, Mumbai (All Areas)',\n",
       " 'Bangalore/Bengaluru',\n",
       " 'Bengaluru/Bangalore',\n",
       " 'Hyderabad/Secunderabad, Bangalore/Bengaluru']"
      ]
     },
     "execution_count": 21,
     "metadata": {},
     "output_type": "execute_result"
    }
   ],
   "source": [
    "#extrcat the text\n",
    "for k in location_tag:\n",
    "    job_location.append(k.text)\n",
    "job_location=job_location[0:10]\n",
    "job_location"
   ]
  },
  {
   "cell_type": "code",
   "execution_count": 22,
   "id": "90b95eee",
   "metadata": {},
   "outputs": [
    {
     "name": "stderr",
     "output_type": "stream",
     "text": [
      "<ipython-input-22-473049238add>:1: DeprecationWarning: find_elements_by_* commands are deprecated. Please use find_elements() instead\n",
      "  experience_tag= driver.find_elements_by_xpath(\"//li[@class='fleft grey-text br2 placeHolderLi experience']/span[1]\")\n"
     ]
    },
    {
     "data": {
      "text/plain": [
       "[<selenium.webdriver.remote.webelement.WebElement (session=\"1fae83c560569b5a60c79c35171bfa23\", element=\"76bda407-8975-4235-a0d0-772976718b5a\")>,\n",
       " <selenium.webdriver.remote.webelement.WebElement (session=\"1fae83c560569b5a60c79c35171bfa23\", element=\"ddba5210-21e6-4c85-ae89-c590938fc605\")>,\n",
       " <selenium.webdriver.remote.webelement.WebElement (session=\"1fae83c560569b5a60c79c35171bfa23\", element=\"edff0d9d-8a02-41b2-9267-21220b7d3c14\")>,\n",
       " <selenium.webdriver.remote.webelement.WebElement (session=\"1fae83c560569b5a60c79c35171bfa23\", element=\"0583bed7-80f6-4a07-bdf4-b1efd1bf383f\")>,\n",
       " <selenium.webdriver.remote.webelement.WebElement (session=\"1fae83c560569b5a60c79c35171bfa23\", element=\"db068dac-b939-4e29-999c-dd63491cf9da\")>,\n",
       " <selenium.webdriver.remote.webelement.WebElement (session=\"1fae83c560569b5a60c79c35171bfa23\", element=\"03b9313c-97a2-401b-908f-74b548b559a5\")>,\n",
       " <selenium.webdriver.remote.webelement.WebElement (session=\"1fae83c560569b5a60c79c35171bfa23\", element=\"27cee2f1-1ffb-42f9-b1a4-0b00c6a84e0f\")>,\n",
       " <selenium.webdriver.remote.webelement.WebElement (session=\"1fae83c560569b5a60c79c35171bfa23\", element=\"a66bc944-4dde-4923-9e46-5beb59a6c44a\")>,\n",
       " <selenium.webdriver.remote.webelement.WebElement (session=\"1fae83c560569b5a60c79c35171bfa23\", element=\"c8698044-85b9-4a88-89b7-d949b0e9fb6b\")>,\n",
       " <selenium.webdriver.remote.webelement.WebElement (session=\"1fae83c560569b5a60c79c35171bfa23\", element=\"f7cd0c05-ecfa-4b5b-860a-11f7b5e18f31\")>]"
      ]
     },
     "execution_count": 22,
     "metadata": {},
     "output_type": "execute_result"
    }
   ],
   "source": [
    "experience_tag= driver.find_elements_by_xpath(\"//li[@class='fleft grey-text br2 placeHolderLi experience']/span[1]\")\n",
    "experience_tag[0:10]"
   ]
  },
  {
   "cell_type": "code",
   "execution_count": 23,
   "id": "ed6a9970",
   "metadata": {},
   "outputs": [
    {
     "data": {
      "text/plain": [
       "['1-6 Yrs',\n",
       " '2-4 Yrs',\n",
       " '3-8 Yrs',\n",
       " '7-12 Yrs',\n",
       " '0-2 Yrs',\n",
       " '3-5 Yrs',\n",
       " '5-10 Yrs',\n",
       " '1-6 Yrs',\n",
       " '4-5 Yrs',\n",
       " '3-6 Yrs']"
      ]
     },
     "execution_count": 23,
     "metadata": {},
     "output_type": "execute_result"
    }
   ],
   "source": [
    "#extract the text\n",
    "for l in experience_tag:\n",
    "    experience_required.append(l.text)\n",
    "experience_required= experience_required[0:10] \n",
    "experience_required"
   ]
  },
  {
   "cell_type": "code",
   "execution_count": 24,
   "id": "1ec8b1f2",
   "metadata": {},
   "outputs": [
    {
     "name": "stdout",
     "output_type": "stream",
     "text": [
      "10 10 10 10\n"
     ]
    }
   ],
   "source": [
    "print(len(job_title),len(company_name),len(job_location),len(experience_required))"
   ]
  },
  {
   "cell_type": "code",
   "execution_count": 25,
   "id": "44b53ef4",
   "metadata": {},
   "outputs": [
    {
     "data": {
      "text/html": [
       "<div>\n",
       "<style scoped>\n",
       "    .dataframe tbody tr th:only-of-type {\n",
       "        vertical-align: middle;\n",
       "    }\n",
       "\n",
       "    .dataframe tbody tr th {\n",
       "        vertical-align: top;\n",
       "    }\n",
       "\n",
       "    .dataframe thead th {\n",
       "        text-align: right;\n",
       "    }\n",
       "</style>\n",
       "<table border=\"1\" class=\"dataframe\">\n",
       "  <thead>\n",
       "    <tr style=\"text-align: right;\">\n",
       "      <th></th>\n",
       "      <th>Title</th>\n",
       "      <th>Company</th>\n",
       "      <th>Location</th>\n",
       "      <th>Experience</th>\n",
       "    </tr>\n",
       "  </thead>\n",
       "  <tbody>\n",
       "    <tr>\n",
       "      <th>0</th>\n",
       "      <td>Hiring -Data Analyst, Business Analyst, MIS An...</td>\n",
       "      <td>Flipkart</td>\n",
       "      <td>Bangalore/Bengaluru</td>\n",
       "      <td>1-6 Yrs</td>\n",
       "    </tr>\n",
       "    <tr>\n",
       "      <th>1</th>\n",
       "      <td>Senior Data Analyst III</td>\n",
       "      <td>Flipkart</td>\n",
       "      <td>Bengaluru/Bangalore</td>\n",
       "      <td>2-4 Yrs</td>\n",
       "    </tr>\n",
       "    <tr>\n",
       "      <th>2</th>\n",
       "      <td>Data Analyst</td>\n",
       "      <td>GlaxoSmithKline Pharmaceuticals Limited</td>\n",
       "      <td>Bangalore/Bengaluru</td>\n",
       "      <td>3-8 Yrs</td>\n",
       "    </tr>\n",
       "    <tr>\n",
       "      <th>3</th>\n",
       "      <td>Business Analyst/ Data Analyst- Capital Market...</td>\n",
       "      <td>Genpact</td>\n",
       "      <td>Pune, Bangalore/Bengaluru</td>\n",
       "      <td>7-12 Yrs</td>\n",
       "    </tr>\n",
       "    <tr>\n",
       "      <th>4</th>\n",
       "      <td>Customer Data Management Analyst</td>\n",
       "      <td>Aspect</td>\n",
       "      <td>Bangalore/Bengaluru</td>\n",
       "      <td>0-2 Yrs</td>\n",
       "    </tr>\n",
       "    <tr>\n",
       "      <th>5</th>\n",
       "      <td>Assistant/deputy Manager - Geo-spatial Data An...</td>\n",
       "      <td>Maruti Suzuki India</td>\n",
       "      <td>Gurgaon/Gurugram, bangalore</td>\n",
       "      <td>3-5 Yrs</td>\n",
       "    </tr>\n",
       "    <tr>\n",
       "      <th>6</th>\n",
       "      <td>Senior Data Analyst</td>\n",
       "      <td>SYREN TECHNOLOGIES PRIVATE LIMITED</td>\n",
       "      <td>Kolkata, Hyderabad/Secunderabad, Pune, Ahmedab...</td>\n",
       "      <td>5-10 Yrs</td>\n",
       "    </tr>\n",
       "    <tr>\n",
       "      <th>7</th>\n",
       "      <td>Senior Data Analyst</td>\n",
       "      <td>Rapido</td>\n",
       "      <td>Bangalore/Bengaluru</td>\n",
       "      <td>1-6 Yrs</td>\n",
       "    </tr>\n",
       "    <tr>\n",
       "      <th>8</th>\n",
       "      <td>Senior Data Analyst</td>\n",
       "      <td>Flipkart</td>\n",
       "      <td>Bengaluru/Bangalore</td>\n",
       "      <td>4-5 Yrs</td>\n",
       "    </tr>\n",
       "    <tr>\n",
       "      <th>9</th>\n",
       "      <td>Openings For SQL Data Analyst</td>\n",
       "      <td>StackNexus Technologies India Pvt. Ltd</td>\n",
       "      <td>Hyderabad/Secunderabad, Bangalore/Bengaluru</td>\n",
       "      <td>3-6 Yrs</td>\n",
       "    </tr>\n",
       "  </tbody>\n",
       "</table>\n",
       "</div>"
      ],
      "text/plain": [
       "                                               Title  \\\n",
       "0  Hiring -Data Analyst, Business Analyst, MIS An...   \n",
       "1                            Senior Data Analyst III   \n",
       "2                                       Data Analyst   \n",
       "3  Business Analyst/ Data Analyst- Capital Market...   \n",
       "4                   Customer Data Management Analyst   \n",
       "5  Assistant/deputy Manager - Geo-spatial Data An...   \n",
       "6                                Senior Data Analyst   \n",
       "7                                Senior Data Analyst   \n",
       "8                                Senior Data Analyst   \n",
       "9                      Openings For SQL Data Analyst   \n",
       "\n",
       "                                   Company  \\\n",
       "0                                 Flipkart   \n",
       "1                                 Flipkart   \n",
       "2  GlaxoSmithKline Pharmaceuticals Limited   \n",
       "3                                  Genpact   \n",
       "4                                   Aspect   \n",
       "5                      Maruti Suzuki India   \n",
       "6       SYREN TECHNOLOGIES PRIVATE LIMITED   \n",
       "7                                   Rapido   \n",
       "8                                 Flipkart   \n",
       "9   StackNexus Technologies India Pvt. Ltd   \n",
       "\n",
       "                                            Location Experience  \n",
       "0                                Bangalore/Bengaluru    1-6 Yrs  \n",
       "1                                Bengaluru/Bangalore    2-4 Yrs  \n",
       "2                                Bangalore/Bengaluru    3-8 Yrs  \n",
       "3                          Pune, Bangalore/Bengaluru   7-12 Yrs  \n",
       "4                                Bangalore/Bengaluru    0-2 Yrs  \n",
       "5                        Gurgaon/Gurugram, bangalore    3-5 Yrs  \n",
       "6  Kolkata, Hyderabad/Secunderabad, Pune, Ahmedab...   5-10 Yrs  \n",
       "7                                Bangalore/Bengaluru    1-6 Yrs  \n",
       "8                                Bengaluru/Bangalore    4-5 Yrs  \n",
       "9        Hyderabad/Secunderabad, Bangalore/Bengaluru    3-6 Yrs  "
      ]
     },
     "execution_count": 25,
     "metadata": {},
     "output_type": "execute_result"
    }
   ],
   "source": [
    "# creating a DAtaFrame\n",
    "df1 = pd.DataFrame({'Title':job_title,'Company':company_name,'Location':job_location,'Experience':experience_required})\n",
    "df1"
   ]
  },
  {
   "cell_type": "code",
   "execution_count": 26,
   "id": "202ddcd1",
   "metadata": {},
   "outputs": [],
   "source": [
    "df1.to_csv('Data Analyst job.csv',index=False)"
   ]
  },
  {
   "cell_type": "markdown",
   "id": "af593108",
   "metadata": {},
   "source": [
    "Q2: Write a python program to scrape data for “Data Scientist” Job position in “Bangalore” location. You \n",
    "have to scrape the job-title, job-location, company_name. You have to scrape first 10 jobs data. \n",
    "This task will be done in following steps: \n",
    "1. First get the webpage https://www.naukri.com/ 2. Enter “Data Scientist” in “Skill, Designations, Companies” field and enter “Bangalore” in “enter the \n",
    "location” field. \n",
    "3. Then click the search button. \n",
    "4. Then scrape the data for the first 10 jobs results you get. \n",
    "5. Finally create a dataframe of the scraped data. "
   ]
  },
  {
   "cell_type": "code",
   "execution_count": 27,
   "id": "c2d9ec26",
   "metadata": {},
   "outputs": [
    {
     "name": "stderr",
     "output_type": "stream",
     "text": [
      "<ipython-input-27-10801da53581>:2: DeprecationWarning: executable_path has been deprecated, please pass in a Service object\n",
      "  driver2= webdriver.Chrome(r\"C:/Users/LENOVO/Downloads/chromedriver_win32/chromedriver\")\n"
     ]
    }
   ],
   "source": [
    "# Connect to the webdriver\n",
    "driver2= webdriver.Chrome(r\"C:/Users/LENOVO/Downloads/chromedriver_win32/chromedriver\")"
   ]
  },
  {
   "cell_type": "code",
   "execution_count": 28,
   "id": "6a366f0b",
   "metadata": {},
   "outputs": [],
   "source": [
    "driver2.get(' https://www.naukri.com/')"
   ]
  },
  {
   "cell_type": "code",
   "execution_count": 29,
   "id": "d4bed4b8",
   "metadata": {},
   "outputs": [
    {
     "name": "stderr",
     "output_type": "stream",
     "text": [
      "<ipython-input-29-fd282f7f5756>:2: DeprecationWarning: find_element_by_* commands are deprecated. Please use find_element() instead\n",
      "  search_job= driver2.find_element_by_id('qsb-keyword-sugg')\n",
      "<ipython-input-29-fd282f7f5756>:4: DeprecationWarning: find_element_by_* commands are deprecated. Please use find_element() instead\n",
      "  search_loc= driver2.find_element_by_xpath(\"//input[@id='qsb-location-sugg']\")\n",
      "<ipython-input-29-fd282f7f5756>:6: DeprecationWarning: find_element_by_* commands are deprecated. Please use find_element() instead\n",
      "  search_btn= driver2.find_element_by_xpath(\"//div[@class='search-btn']/button\")\n"
     ]
    }
   ],
   "source": [
    "#find element of job search bar\n",
    "search_job= driver2.find_element_by_id('qsb-keyword-sugg')\n",
    "search_job.send_keys(\"Data Scientist\")\n",
    "search_loc= driver2.find_element_by_xpath(\"//input[@id='qsb-location-sugg']\")\n",
    "search_loc.send_keys(\"Bangalore\")\n",
    "search_btn= driver2.find_element_by_xpath(\"//div[@class='search-btn']/button\")\n",
    "search_btn.click()\n"
   ]
  },
  {
   "cell_type": "code",
   "execution_count": 30,
   "id": "55c88768",
   "metadata": {},
   "outputs": [],
   "source": [
    "#extract the data\n",
    "job_title2=[]\n",
    "job_location2=[]\n",
    "company_name2=[]\n"
   ]
  },
  {
   "cell_type": "code",
   "execution_count": 31,
   "id": "a0bcf4f8",
   "metadata": {},
   "outputs": [
    {
     "name": "stderr",
     "output_type": "stream",
     "text": [
      "<ipython-input-31-508d46f3f4ad>:1: DeprecationWarning: find_elements_by_* commands are deprecated. Please use find_elements() instead\n",
      "  title_tag2= driver2.find_elements_by_xpath(\"//a[@class='title fw500 ellipsis']\")\n"
     ]
    },
    {
     "data": {
      "text/plain": [
       "[<selenium.webdriver.remote.webelement.WebElement (session=\"9ba5f7a480dccd90aa9742397dc29e34\", element=\"1d9662f5-420c-468c-a9f8-e952a5deef14\")>,\n",
       " <selenium.webdriver.remote.webelement.WebElement (session=\"9ba5f7a480dccd90aa9742397dc29e34\", element=\"5cca3278-0dc5-49a6-a041-9fe5fb93e009\")>,\n",
       " <selenium.webdriver.remote.webelement.WebElement (session=\"9ba5f7a480dccd90aa9742397dc29e34\", element=\"db771a06-0329-4b83-ac29-190f555d8d59\")>,\n",
       " <selenium.webdriver.remote.webelement.WebElement (session=\"9ba5f7a480dccd90aa9742397dc29e34\", element=\"915778c8-491e-47f1-90cc-c22ca137f899\")>,\n",
       " <selenium.webdriver.remote.webelement.WebElement (session=\"9ba5f7a480dccd90aa9742397dc29e34\", element=\"3179bdb9-7001-4798-87c3-9d54e8685735\")>,\n",
       " <selenium.webdriver.remote.webelement.WebElement (session=\"9ba5f7a480dccd90aa9742397dc29e34\", element=\"4181ac53-883c-4687-9253-54f166a65498\")>,\n",
       " <selenium.webdriver.remote.webelement.WebElement (session=\"9ba5f7a480dccd90aa9742397dc29e34\", element=\"60edc0cd-a0d0-48e8-97c5-a47b5e9cfc62\")>,\n",
       " <selenium.webdriver.remote.webelement.WebElement (session=\"9ba5f7a480dccd90aa9742397dc29e34\", element=\"54ef0b4e-6a7e-4209-85ba-445d6ffcfe68\")>,\n",
       " <selenium.webdriver.remote.webelement.WebElement (session=\"9ba5f7a480dccd90aa9742397dc29e34\", element=\"27f10f69-7caa-44aa-b1cd-28408158b5ae\")>,\n",
       " <selenium.webdriver.remote.webelement.WebElement (session=\"9ba5f7a480dccd90aa9742397dc29e34\", element=\"ee65516c-275e-4ec4-b5c2-7a86c6823bdd\")>]"
      ]
     },
     "execution_count": 31,
     "metadata": {},
     "output_type": "execute_result"
    }
   ],
   "source": [
    "title_tag2= driver2.find_elements_by_xpath(\"//a[@class='title fw500 ellipsis']\")\n",
    "title_tag2[0:10]"
   ]
  },
  {
   "cell_type": "code",
   "execution_count": 32,
   "id": "4f9502ae",
   "metadata": {},
   "outputs": [
    {
     "data": {
      "text/plain": [
       "['Data Scientist',\n",
       " 'Data Science - Senior Data Scientist',\n",
       " 'Lead / Principal Data Scientist',\n",
       " 'Senior Data Scientist',\n",
       " 'Senior Data Scientist',\n",
       " 'Data Scientist - Credit Risk',\n",
       " 'Lead/Senior Data Scientist (NLP)',\n",
       " 'Data Scientist',\n",
       " 'Data Scientist',\n",
       " 'Advanced Analytics Expert - Data Scientist']"
      ]
     },
     "execution_count": 32,
     "metadata": {},
     "output_type": "execute_result"
    }
   ],
   "source": [
    "for a in title_tag2:\n",
    "    job_title2.append(a.text)\n",
    "job_title2= job_title2[0:10] \n",
    "job_title2"
   ]
  },
  {
   "cell_type": "code",
   "execution_count": 34,
   "id": "606159fa",
   "metadata": {},
   "outputs": [
    {
     "name": "stderr",
     "output_type": "stream",
     "text": [
      "<ipython-input-34-d6f1e7195221>:1: DeprecationWarning: find_elements_by_* commands are deprecated. Please use find_elements() instead\n",
      "  company_tag2= driver2.find_elements_by_xpath(\"//a[@class='subTitle ellipsis fleft']\")\n"
     ]
    },
    {
     "data": {
      "text/plain": [
       "[<selenium.webdriver.remote.webelement.WebElement (session=\"9ba5f7a480dccd90aa9742397dc29e34\", element=\"50742ed5-c764-4024-ada1-bdaa36ac911b\")>,\n",
       " <selenium.webdriver.remote.webelement.WebElement (session=\"9ba5f7a480dccd90aa9742397dc29e34\", element=\"eb7b7f12-8c7b-41ff-a1e9-9468a1737aeb\")>,\n",
       " <selenium.webdriver.remote.webelement.WebElement (session=\"9ba5f7a480dccd90aa9742397dc29e34\", element=\"07540169-8cd7-4a15-97ae-33e186144bf4\")>,\n",
       " <selenium.webdriver.remote.webelement.WebElement (session=\"9ba5f7a480dccd90aa9742397dc29e34\", element=\"836c9918-470e-4a0b-b4dc-e74ab4de4e22\")>,\n",
       " <selenium.webdriver.remote.webelement.WebElement (session=\"9ba5f7a480dccd90aa9742397dc29e34\", element=\"27f0dc02-ee5c-4b14-9e6c-ead72a3f9d11\")>,\n",
       " <selenium.webdriver.remote.webelement.WebElement (session=\"9ba5f7a480dccd90aa9742397dc29e34\", element=\"db2930c5-ea4a-42ed-8131-3ae018f03143\")>,\n",
       " <selenium.webdriver.remote.webelement.WebElement (session=\"9ba5f7a480dccd90aa9742397dc29e34\", element=\"4cda4576-1d82-46d8-8b84-c68a5938ca99\")>,\n",
       " <selenium.webdriver.remote.webelement.WebElement (session=\"9ba5f7a480dccd90aa9742397dc29e34\", element=\"b9edd55a-7c22-4aa9-a4a8-aebd449698a4\")>,\n",
       " <selenium.webdriver.remote.webelement.WebElement (session=\"9ba5f7a480dccd90aa9742397dc29e34\", element=\"6896afc9-5a1e-48c0-b506-ab1db6c28cd1\")>,\n",
       " <selenium.webdriver.remote.webelement.WebElement (session=\"9ba5f7a480dccd90aa9742397dc29e34\", element=\"abebb22c-1917-4e4a-a675-da81fbd45ee0\")>]"
      ]
     },
     "execution_count": 34,
     "metadata": {},
     "output_type": "execute_result"
    }
   ],
   "source": [
    "company_tag2= driver2.find_elements_by_xpath(\"//a[@class='subTitle ellipsis fleft']\")\n",
    "company_tag2[0:10]"
   ]
  },
  {
   "cell_type": "code",
   "execution_count": 35,
   "id": "af3f5f07",
   "metadata": {},
   "outputs": [
    {
     "data": {
      "text/plain": [
       "['Snaphunt',\n",
       " 'Paytm',\n",
       " 'Aviso Inc',\n",
       " 'Ally-Executive',\n",
       " 'Visa',\n",
       " 'Scienaptic Systems',\n",
       " 'Samya.AI A FRACTAL Entity',\n",
       " 'Truecaller',\n",
       " 'Slice',\n",
       " 'Hewlett-Packard']"
      ]
     },
     "execution_count": 35,
     "metadata": {},
     "output_type": "execute_result"
    }
   ],
   "source": [
    "for b in company_tag2:\n",
    "    company_name2.append(b.text)\n",
    "company_name2=company_name2[0:10]\n",
    "company_name2"
   ]
  },
  {
   "cell_type": "code",
   "execution_count": 36,
   "id": "df20c039",
   "metadata": {},
   "outputs": [
    {
     "name": "stderr",
     "output_type": "stream",
     "text": [
      "<ipython-input-36-77e654b320d6>:2: DeprecationWarning: find_elements_by_* commands are deprecated. Please use find_elements() instead\n",
      "  location_tag2= driver2.find_elements_by_xpath(\"//li[@class='fleft grey-text br2 placeHolderLi location']/span[1]\")\n"
     ]
    },
    {
     "data": {
      "text/plain": [
       "[<selenium.webdriver.remote.webelement.WebElement (session=\"9ba5f7a480dccd90aa9742397dc29e34\", element=\"a8f87ebc-78ea-4ca2-8519-3142a6df6cf2\")>,\n",
       " <selenium.webdriver.remote.webelement.WebElement (session=\"9ba5f7a480dccd90aa9742397dc29e34\", element=\"d1185149-8b0d-4e77-918f-01e712458c64\")>,\n",
       " <selenium.webdriver.remote.webelement.WebElement (session=\"9ba5f7a480dccd90aa9742397dc29e34\", element=\"266716dd-3931-443e-a248-17b48870f273\")>,\n",
       " <selenium.webdriver.remote.webelement.WebElement (session=\"9ba5f7a480dccd90aa9742397dc29e34\", element=\"7ba7f96f-3466-44ed-85cf-baa48450d1a1\")>,\n",
       " <selenium.webdriver.remote.webelement.WebElement (session=\"9ba5f7a480dccd90aa9742397dc29e34\", element=\"a0d6bd84-0fed-4589-8ee1-270afab62df9\")>,\n",
       " <selenium.webdriver.remote.webelement.WebElement (session=\"9ba5f7a480dccd90aa9742397dc29e34\", element=\"2012ef46-6b7f-44c0-9597-27c724f1f8d2\")>,\n",
       " <selenium.webdriver.remote.webelement.WebElement (session=\"9ba5f7a480dccd90aa9742397dc29e34\", element=\"ffc4ca35-12be-48ed-aabf-c82360040686\")>,\n",
       " <selenium.webdriver.remote.webelement.WebElement (session=\"9ba5f7a480dccd90aa9742397dc29e34\", element=\"bf394aaf-3fd1-40ff-9566-1f73c6d56619\")>,\n",
       " <selenium.webdriver.remote.webelement.WebElement (session=\"9ba5f7a480dccd90aa9742397dc29e34\", element=\"099270c1-6415-4f62-81d1-fd4f4f8d85d7\")>,\n",
       " <selenium.webdriver.remote.webelement.WebElement (session=\"9ba5f7a480dccd90aa9742397dc29e34\", element=\"ee23fb80-f840-45e4-8ac3-e4665b1533b8\")>]"
      ]
     },
     "execution_count": 36,
     "metadata": {},
     "output_type": "execute_result"
    }
   ],
   "source": [
    "# scrap the location tag\n",
    "location_tag2= driver2.find_elements_by_xpath(\"//li[@class='fleft grey-text br2 placeHolderLi location']/span[1]\")\n",
    "location_tag2[0:10]"
   ]
  },
  {
   "cell_type": "code",
   "execution_count": 37,
   "id": "80523f43",
   "metadata": {},
   "outputs": [
    {
     "data": {
      "text/plain": [
       "['Bangalore/Bengaluru',\n",
       " 'Noida, Bangalore/Bengaluru',\n",
       " 'Mumbai, Hyderabad/Secunderabad, Pune, Delhi / NCR, Bangalore/Bengaluru',\n",
       " 'Bangalore/Bengaluru',\n",
       " 'Bangalore/Bengaluru',\n",
       " 'Bangalore/Bengaluru',\n",
       " 'Bangalore/Bengaluru',\n",
       " 'Bangalore/Bengaluru',\n",
       " 'Bangalore/Bengaluru',\n",
       " 'Bangalore/Bengaluru, Bangalore']"
      ]
     },
     "execution_count": 37,
     "metadata": {},
     "output_type": "execute_result"
    }
   ],
   "source": [
    "#extrcat the text\n",
    "for c in location_tag2:\n",
    "    job_location2.append(c.text)\n",
    "job_location2=job_location2[0:10]\n",
    "job_location2"
   ]
  },
  {
   "cell_type": "code",
   "execution_count": 38,
   "id": "82ff743c",
   "metadata": {},
   "outputs": [
    {
     "name": "stdout",
     "output_type": "stream",
     "text": [
      "10 10 10\n"
     ]
    }
   ],
   "source": [
    "print(len(job_title2),len(company_name2),len(job_location2))"
   ]
  },
  {
   "cell_type": "code",
   "execution_count": 39,
   "id": "3fcd91de",
   "metadata": {},
   "outputs": [
    {
     "data": {
      "text/html": [
       "<div>\n",
       "<style scoped>\n",
       "    .dataframe tbody tr th:only-of-type {\n",
       "        vertical-align: middle;\n",
       "    }\n",
       "\n",
       "    .dataframe tbody tr th {\n",
       "        vertical-align: top;\n",
       "    }\n",
       "\n",
       "    .dataframe thead th {\n",
       "        text-align: right;\n",
       "    }\n",
       "</style>\n",
       "<table border=\"1\" class=\"dataframe\">\n",
       "  <thead>\n",
       "    <tr style=\"text-align: right;\">\n",
       "      <th></th>\n",
       "      <th>TITLE</th>\n",
       "      <th>COMPANY</th>\n",
       "      <th>LOCATION</th>\n",
       "    </tr>\n",
       "  </thead>\n",
       "  <tbody>\n",
       "    <tr>\n",
       "      <th>0</th>\n",
       "      <td>Data Scientist</td>\n",
       "      <td>Snaphunt</td>\n",
       "      <td>Bangalore/Bengaluru</td>\n",
       "    </tr>\n",
       "    <tr>\n",
       "      <th>1</th>\n",
       "      <td>Data Science - Senior Data Scientist</td>\n",
       "      <td>Paytm</td>\n",
       "      <td>Noida, Bangalore/Bengaluru</td>\n",
       "    </tr>\n",
       "    <tr>\n",
       "      <th>2</th>\n",
       "      <td>Lead / Principal Data Scientist</td>\n",
       "      <td>Aviso Inc</td>\n",
       "      <td>Mumbai, Hyderabad/Secunderabad, Pune, Delhi / ...</td>\n",
       "    </tr>\n",
       "    <tr>\n",
       "      <th>3</th>\n",
       "      <td>Senior Data Scientist</td>\n",
       "      <td>Ally-Executive</td>\n",
       "      <td>Bangalore/Bengaluru</td>\n",
       "    </tr>\n",
       "    <tr>\n",
       "      <th>4</th>\n",
       "      <td>Senior Data Scientist</td>\n",
       "      <td>Visa</td>\n",
       "      <td>Bangalore/Bengaluru</td>\n",
       "    </tr>\n",
       "    <tr>\n",
       "      <th>5</th>\n",
       "      <td>Data Scientist - Credit Risk</td>\n",
       "      <td>Scienaptic Systems</td>\n",
       "      <td>Bangalore/Bengaluru</td>\n",
       "    </tr>\n",
       "    <tr>\n",
       "      <th>6</th>\n",
       "      <td>Lead/Senior Data Scientist (NLP)</td>\n",
       "      <td>Samya.AI A FRACTAL Entity</td>\n",
       "      <td>Bangalore/Bengaluru</td>\n",
       "    </tr>\n",
       "    <tr>\n",
       "      <th>7</th>\n",
       "      <td>Data Scientist</td>\n",
       "      <td>Truecaller</td>\n",
       "      <td>Bangalore/Bengaluru</td>\n",
       "    </tr>\n",
       "    <tr>\n",
       "      <th>8</th>\n",
       "      <td>Data Scientist</td>\n",
       "      <td>Slice</td>\n",
       "      <td>Bangalore/Bengaluru</td>\n",
       "    </tr>\n",
       "    <tr>\n",
       "      <th>9</th>\n",
       "      <td>Advanced Analytics Expert - Data Scientist</td>\n",
       "      <td>Hewlett-Packard</td>\n",
       "      <td>Bangalore/Bengaluru, Bangalore</td>\n",
       "    </tr>\n",
       "  </tbody>\n",
       "</table>\n",
       "</div>"
      ],
      "text/plain": [
       "                                        TITLE                    COMPANY  \\\n",
       "0                              Data Scientist                   Snaphunt   \n",
       "1        Data Science - Senior Data Scientist                      Paytm   \n",
       "2             Lead / Principal Data Scientist                  Aviso Inc   \n",
       "3                       Senior Data Scientist             Ally-Executive   \n",
       "4                       Senior Data Scientist                       Visa   \n",
       "5                Data Scientist - Credit Risk         Scienaptic Systems   \n",
       "6            Lead/Senior Data Scientist (NLP)  Samya.AI A FRACTAL Entity   \n",
       "7                              Data Scientist                 Truecaller   \n",
       "8                              Data Scientist                      Slice   \n",
       "9  Advanced Analytics Expert - Data Scientist            Hewlett-Packard   \n",
       "\n",
       "                                            LOCATION  \n",
       "0                                Bangalore/Bengaluru  \n",
       "1                         Noida, Bangalore/Bengaluru  \n",
       "2  Mumbai, Hyderabad/Secunderabad, Pune, Delhi / ...  \n",
       "3                                Bangalore/Bengaluru  \n",
       "4                                Bangalore/Bengaluru  \n",
       "5                                Bangalore/Bengaluru  \n",
       "6                                Bangalore/Bengaluru  \n",
       "7                                Bangalore/Bengaluru  \n",
       "8                                Bangalore/Bengaluru  \n",
       "9                     Bangalore/Bengaluru, Bangalore  "
      ]
     },
     "execution_count": 39,
     "metadata": {},
     "output_type": "execute_result"
    }
   ],
   "source": [
    "# creating a DAtaFrame\n",
    "df2 = pd.DataFrame({'TITLE':job_title2,'COMPANY':company_name2,'LOCATION':job_location2})\n",
    "df2"
   ]
  },
  {
   "cell_type": "code",
   "execution_count": 40,
   "id": "1f43c98a",
   "metadata": {},
   "outputs": [],
   "source": [
    "df2.to_csv('Data Scientist job.csv',index=False)"
   ]
  },
  {
   "cell_type": "markdown",
   "id": "622f26c0",
   "metadata": {},
   "source": [
    "Q3: In this question you have to scrape data using the filters available on the webpage as shown below: \n",
    "You have to use the location and salary filter. \n",
    "You have to scrape data for “Data Scientist” designation for first 10 job results. \n",
    "You have to scrape the job-title, job-location, company name, experience required. \n",
    "The location filter to be used is “Delhi/NCR” The salary filter to be used is “3-6” lakhs \n",
    "The task will be done as shown in the below steps: \n",
    "1. first get the webpage https://www.naukri.com/\n",
    "2. Enter “Data Scientist” in “Skill, Designations, and Companies” field. \n",
    "3. Then click the search button. \n",
    "4. Then apply the location filter and salary filter by checking the respective boxes \n",
    "5. Then scrape the data for the first 10 jobs results you get. \n",
    "6. Finally create a dataframe of the scraped data"
   ]
  },
  {
   "cell_type": "code",
   "execution_count": 41,
   "id": "77f6fd37",
   "metadata": {},
   "outputs": [
    {
     "name": "stderr",
     "output_type": "stream",
     "text": [
      "<ipython-input-41-cdb41c5ffd72>:2: DeprecationWarning: executable_path has been deprecated, please pass in a Service object\n",
      "  driver3= webdriver.Chrome(r\"C:/Users/LENOVO/Downloads/chromedriver_win32/chromedriver\")\n"
     ]
    }
   ],
   "source": [
    "# Connect to the webdriver\n",
    "driver3= webdriver.Chrome(r\"C:/Users/LENOVO/Downloads/chromedriver_win32/chromedriver\")"
   ]
  },
  {
   "cell_type": "code",
   "execution_count": 42,
   "id": "db24c557",
   "metadata": {},
   "outputs": [],
   "source": [
    "driver3.get('https://www.naukri.com/')"
   ]
  },
  {
   "cell_type": "code",
   "execution_count": 43,
   "id": "71780592",
   "metadata": {},
   "outputs": [
    {
     "name": "stderr",
     "output_type": "stream",
     "text": [
      "<ipython-input-43-b6dd5833865f>:2: DeprecationWarning: find_element_by_* commands are deprecated. Please use find_element() instead\n",
      "  search_job3= driver3.find_element_by_id('qsb-keyword-sugg')\n",
      "<ipython-input-43-b6dd5833865f>:4: DeprecationWarning: find_element_by_* commands are deprecated. Please use find_element() instead\n",
      "  search_btn3= driver3.find_element_by_xpath(\"//div[@class='search-btn']/button\")\n"
     ]
    }
   ],
   "source": [
    "# find the search element\n",
    "search_job3= driver3.find_element_by_id('qsb-keyword-sugg')\n",
    "search_job3.send_keys(\"Data Scientist\")\n",
    "search_btn3= driver3.find_element_by_xpath(\"//div[@class='search-btn']/button\")\n",
    "search_btn3.click()\n"
   ]
  },
  {
   "cell_type": "code",
   "execution_count": 50,
   "id": "6bf148ad",
   "metadata": {},
   "outputs": [],
   "source": [
    "driver3.get('https://www.naukri.com/data-scientist-jobs?k=data%20scientist&ctcFilter=3to6&cityTypeGid=9508')"
   ]
  },
  {
   "cell_type": "code",
   "execution_count": 52,
   "id": "058c2e24",
   "metadata": {},
   "outputs": [],
   "source": [
    "#extract the data\n",
    "job_title3=[]\n",
    "job_location3=[]\n",
    "company_name3=[]\n",
    "experience_required3=[]"
   ]
  },
  {
   "cell_type": "code",
   "execution_count": 54,
   "id": "e7d524e3",
   "metadata": {},
   "outputs": [
    {
     "name": "stderr",
     "output_type": "stream",
     "text": [
      "<ipython-input-54-aa5d4224c039>:1: DeprecationWarning: find_elements_by_* commands are deprecated. Please use find_elements() instead\n",
      "  title_tag3= driver3.find_elements_by_xpath(\"//a[@class='title fw500 ellipsis']\")\n"
     ]
    },
    {
     "data": {
      "text/plain": [
       "[<selenium.webdriver.remote.webelement.WebElement (session=\"9f2d8e6ef6038adfe9830291f2b7fe2b\", element=\"56e309e6-fe75-45b6-8811-1eb44b25b72e\")>,\n",
       " <selenium.webdriver.remote.webelement.WebElement (session=\"9f2d8e6ef6038adfe9830291f2b7fe2b\", element=\"a48bc4f7-8fb4-4e75-bd1e-4e2aca1bbeea\")>,\n",
       " <selenium.webdriver.remote.webelement.WebElement (session=\"9f2d8e6ef6038adfe9830291f2b7fe2b\", element=\"37c7437c-f437-45e4-9617-85a79d0f8510\")>,\n",
       " <selenium.webdriver.remote.webelement.WebElement (session=\"9f2d8e6ef6038adfe9830291f2b7fe2b\", element=\"00735f31-fadb-4682-b4e5-8ffd62ee2c2f\")>,\n",
       " <selenium.webdriver.remote.webelement.WebElement (session=\"9f2d8e6ef6038adfe9830291f2b7fe2b\", element=\"e606146f-7fd9-463e-b00e-c4cdb07130ed\")>,\n",
       " <selenium.webdriver.remote.webelement.WebElement (session=\"9f2d8e6ef6038adfe9830291f2b7fe2b\", element=\"7949a171-bc6b-4270-bbbe-27b4b8dc17f2\")>,\n",
       " <selenium.webdriver.remote.webelement.WebElement (session=\"9f2d8e6ef6038adfe9830291f2b7fe2b\", element=\"bd20d204-b1d3-41dd-ba09-b8b206973b04\")>,\n",
       " <selenium.webdriver.remote.webelement.WebElement (session=\"9f2d8e6ef6038adfe9830291f2b7fe2b\", element=\"12c29e1a-7584-44d3-8a7d-0b99bd54a1d1\")>,\n",
       " <selenium.webdriver.remote.webelement.WebElement (session=\"9f2d8e6ef6038adfe9830291f2b7fe2b\", element=\"f114267c-5efe-44a0-9a0a-ce1e0b242f93\")>,\n",
       " <selenium.webdriver.remote.webelement.WebElement (session=\"9f2d8e6ef6038adfe9830291f2b7fe2b\", element=\"c744f8fe-08e4-4a55-84dc-c38b1f0f0deb\")>]"
      ]
     },
     "execution_count": 54,
     "metadata": {},
     "output_type": "execute_result"
    }
   ],
   "source": [
    "title_tag3= driver3.find_elements_by_xpath(\"//a[@class='title fw500 ellipsis']\")\n",
    "title_tag3[0:10]"
   ]
  },
  {
   "cell_type": "code",
   "execution_count": 55,
   "id": "c0663382",
   "metadata": {},
   "outputs": [
    {
     "data": {
      "text/plain": [
       "['Data Scientist',\n",
       " 'Data Scientist',\n",
       " 'Hiring For Data Scientist',\n",
       " 'Data Scientist/ Senior Data Scientist',\n",
       " 'Project Manager | Team Leader | Senior Data Scientist',\n",
       " 'Data Scientist',\n",
       " 'Job Opportunity || Data Scientist || HCL Technologies',\n",
       " 'Data Analyst / Data Scientist / Business Analytics / Fresher - MNC',\n",
       " 'Data Scientist',\n",
       " 'Senior Data Scientist']"
      ]
     },
     "execution_count": 55,
     "metadata": {},
     "output_type": "execute_result"
    }
   ],
   "source": [
    "for aa in title_tag3:\n",
    "    job_title3.append(aa.text)\n",
    "job_title3= job_title3[0:10] \n",
    "job_title3"
   ]
  },
  {
   "cell_type": "code",
   "execution_count": 56,
   "id": "b62762ed",
   "metadata": {},
   "outputs": [
    {
     "name": "stderr",
     "output_type": "stream",
     "text": [
      "<ipython-input-56-20b7e01eddd6>:1: DeprecationWarning: find_elements_by_* commands are deprecated. Please use find_elements() instead\n",
      "  company_tag3= driver3.find_elements_by_xpath(\"//a[@class='subTitle ellipsis fleft']\")\n"
     ]
    },
    {
     "data": {
      "text/plain": [
       "[<selenium.webdriver.remote.webelement.WebElement (session=\"9f2d8e6ef6038adfe9830291f2b7fe2b\", element=\"c93beba1-5c8d-4ef8-9135-deff6a7075d4\")>,\n",
       " <selenium.webdriver.remote.webelement.WebElement (session=\"9f2d8e6ef6038adfe9830291f2b7fe2b\", element=\"ce077c10-96ac-4ca7-aa17-40ad1b40053d\")>,\n",
       " <selenium.webdriver.remote.webelement.WebElement (session=\"9f2d8e6ef6038adfe9830291f2b7fe2b\", element=\"4c19e131-b589-462c-ab59-4a437801793c\")>,\n",
       " <selenium.webdriver.remote.webelement.WebElement (session=\"9f2d8e6ef6038adfe9830291f2b7fe2b\", element=\"3b999dfa-c6a6-419b-bb37-2db44f00e9fe\")>,\n",
       " <selenium.webdriver.remote.webelement.WebElement (session=\"9f2d8e6ef6038adfe9830291f2b7fe2b\", element=\"ec1793eb-b2e1-4185-a792-208119326805\")>,\n",
       " <selenium.webdriver.remote.webelement.WebElement (session=\"9f2d8e6ef6038adfe9830291f2b7fe2b\", element=\"ea9d7673-73be-45b2-8b41-5777243ee008\")>,\n",
       " <selenium.webdriver.remote.webelement.WebElement (session=\"9f2d8e6ef6038adfe9830291f2b7fe2b\", element=\"3d85f981-36fe-412e-bf03-ffdeed0e6d1f\")>,\n",
       " <selenium.webdriver.remote.webelement.WebElement (session=\"9f2d8e6ef6038adfe9830291f2b7fe2b\", element=\"416d5462-a7dc-4739-9108-a8383544126f\")>,\n",
       " <selenium.webdriver.remote.webelement.WebElement (session=\"9f2d8e6ef6038adfe9830291f2b7fe2b\", element=\"d86efe26-86e6-4b30-8d6b-d9158586908d\")>,\n",
       " <selenium.webdriver.remote.webelement.WebElement (session=\"9f2d8e6ef6038adfe9830291f2b7fe2b\", element=\"8dbbba90-30e1-4071-998b-64d405614bc2\")>]"
      ]
     },
     "execution_count": 56,
     "metadata": {},
     "output_type": "execute_result"
    }
   ],
   "source": [
    "company_tag3= driver3.find_elements_by_xpath(\"//a[@class='subTitle ellipsis fleft']\")\n",
    "company_tag3[0:10]"
   ]
  },
  {
   "cell_type": "code",
   "execution_count": 57,
   "id": "833f5397",
   "metadata": {},
   "outputs": [
    {
     "data": {
      "text/plain": [
       "['LG Electronics India Pvt. Ltd.',\n",
       " 'Navikenz India Pvt Ltd',\n",
       " 'Tata Consultancy Services Ltd.',\n",
       " 'Newgen Software Technologies',\n",
       " 'Tidyquant (OPC) Private Limited',\n",
       " 'Teleperformance',\n",
       " 'HCL Technologies',\n",
       " 'GABA Consultancy services',\n",
       " 'The Boston Consulting Group (India) Pvt Limited',\n",
       " 'iNICU']"
      ]
     },
     "execution_count": 57,
     "metadata": {},
     "output_type": "execute_result"
    }
   ],
   "source": [
    "for bb in company_tag3:\n",
    "    company_name3.append(bb.text)\n",
    "company_name3=company_name3[0:10]\n",
    "company_name3"
   ]
  },
  {
   "cell_type": "code",
   "execution_count": 58,
   "id": "811072f8",
   "metadata": {},
   "outputs": [
    {
     "name": "stderr",
     "output_type": "stream",
     "text": [
      "<ipython-input-58-5acf3ac0030f>:2: DeprecationWarning: find_elements_by_* commands are deprecated. Please use find_elements() instead\n",
      "  location_tag3= driver3.find_elements_by_xpath(\"//li[@class='fleft grey-text br2 placeHolderLi location']/span[1]\")\n"
     ]
    },
    {
     "data": {
      "text/plain": [
       "[<selenium.webdriver.remote.webelement.WebElement (session=\"9f2d8e6ef6038adfe9830291f2b7fe2b\", element=\"70a2bc50-0247-4a61-a747-aea3e56d09cf\")>,\n",
       " <selenium.webdriver.remote.webelement.WebElement (session=\"9f2d8e6ef6038adfe9830291f2b7fe2b\", element=\"0cf08296-5062-495c-806c-a0b3f48a8329\")>,\n",
       " <selenium.webdriver.remote.webelement.WebElement (session=\"9f2d8e6ef6038adfe9830291f2b7fe2b\", element=\"16fb1ec8-10cd-45d8-a9a1-361e41bff812\")>,\n",
       " <selenium.webdriver.remote.webelement.WebElement (session=\"9f2d8e6ef6038adfe9830291f2b7fe2b\", element=\"e27da6bd-904b-441a-8e54-2bdcdae5c5de\")>,\n",
       " <selenium.webdriver.remote.webelement.WebElement (session=\"9f2d8e6ef6038adfe9830291f2b7fe2b\", element=\"dec04b71-4d73-4e5b-9d21-343904553201\")>,\n",
       " <selenium.webdriver.remote.webelement.WebElement (session=\"9f2d8e6ef6038adfe9830291f2b7fe2b\", element=\"9aee68ce-a259-43fd-999f-65d686eb095a\")>,\n",
       " <selenium.webdriver.remote.webelement.WebElement (session=\"9f2d8e6ef6038adfe9830291f2b7fe2b\", element=\"a26c7186-1299-4ac4-bc10-d7149414b046\")>,\n",
       " <selenium.webdriver.remote.webelement.WebElement (session=\"9f2d8e6ef6038adfe9830291f2b7fe2b\", element=\"18800d30-95d9-47f2-b2a4-337a2736ce4e\")>,\n",
       " <selenium.webdriver.remote.webelement.WebElement (session=\"9f2d8e6ef6038adfe9830291f2b7fe2b\", element=\"12b6b3ce-acc9-4e66-a05b-39c66f1af62d\")>,\n",
       " <selenium.webdriver.remote.webelement.WebElement (session=\"9f2d8e6ef6038adfe9830291f2b7fe2b\", element=\"eceac7ab-c6ab-468a-9559-b49d02deaab1\")>]"
      ]
     },
     "execution_count": 58,
     "metadata": {},
     "output_type": "execute_result"
    }
   ],
   "source": [
    "# scrap the location tag\n",
    "location_tag3= driver3.find_elements_by_xpath(\"//li[@class='fleft grey-text br2 placeHolderLi location']/span[1]\")\n",
    "location_tag3[0:10]"
   ]
  },
  {
   "cell_type": "code",
   "execution_count": 59,
   "id": "bd555fe1",
   "metadata": {},
   "outputs": [
    {
     "data": {
      "text/plain": [
       "['Noida, New Delhi, Faridabad, Gurgaon/Gurugram, Delhi / NCR',\n",
       " 'Noida, Nodia',\n",
       " 'Hyderabad/Secunderabad, Pune, Chennai, Bangalore/Bengaluru, Delhi / NCR, Mumbai (All Areas)',\n",
       " 'Noida',\n",
       " 'Remote',\n",
       " 'Gurgaon/Gurugram, Chennai',\n",
       " 'Delhi / NCR',\n",
       " 'Noida, Ghaziabad, Delhi / NCR',\n",
       " 'New Delhi',\n",
       " 'Delhi']"
      ]
     },
     "execution_count": 59,
     "metadata": {},
     "output_type": "execute_result"
    }
   ],
   "source": [
    "#extrcat the text\n",
    "for cc in location_tag3:\n",
    "    job_location3.append(cc.text)\n",
    "job_location3=job_location3[0:10]\n",
    "job_location3"
   ]
  },
  {
   "cell_type": "code",
   "execution_count": 60,
   "id": "5bb3e717",
   "metadata": {},
   "outputs": [
    {
     "name": "stderr",
     "output_type": "stream",
     "text": [
      "<ipython-input-60-db6615637e13>:1: DeprecationWarning: find_elements_by_* commands are deprecated. Please use find_elements() instead\n",
      "  experience_tag3= driver3.find_elements_by_xpath(\"//li[@class='fleft grey-text br2 placeHolderLi experience']/span[1]\")\n"
     ]
    },
    {
     "data": {
      "text/plain": [
       "[<selenium.webdriver.remote.webelement.WebElement (session=\"9f2d8e6ef6038adfe9830291f2b7fe2b\", element=\"7f2e90e1-7f81-49ac-9fba-56d696dd0c58\")>,\n",
       " <selenium.webdriver.remote.webelement.WebElement (session=\"9f2d8e6ef6038adfe9830291f2b7fe2b\", element=\"8cf03738-a87e-4c02-987e-3999c59101ea\")>,\n",
       " <selenium.webdriver.remote.webelement.WebElement (session=\"9f2d8e6ef6038adfe9830291f2b7fe2b\", element=\"1e17cf2f-8887-45b5-839a-e01213d01c49\")>,\n",
       " <selenium.webdriver.remote.webelement.WebElement (session=\"9f2d8e6ef6038adfe9830291f2b7fe2b\", element=\"89a8a4f1-b32a-491a-835f-00d579429bad\")>,\n",
       " <selenium.webdriver.remote.webelement.WebElement (session=\"9f2d8e6ef6038adfe9830291f2b7fe2b\", element=\"6d584a84-9701-4ac0-aa9e-6dcbdcc1298f\")>,\n",
       " <selenium.webdriver.remote.webelement.WebElement (session=\"9f2d8e6ef6038adfe9830291f2b7fe2b\", element=\"a209cf22-a221-450f-b32b-8fe34f4ab6da\")>,\n",
       " <selenium.webdriver.remote.webelement.WebElement (session=\"9f2d8e6ef6038adfe9830291f2b7fe2b\", element=\"90137cca-d08a-4437-ac75-ba94cf960d1e\")>,\n",
       " <selenium.webdriver.remote.webelement.WebElement (session=\"9f2d8e6ef6038adfe9830291f2b7fe2b\", element=\"61f705db-81fb-42ed-92bf-18421ce173dc\")>,\n",
       " <selenium.webdriver.remote.webelement.WebElement (session=\"9f2d8e6ef6038adfe9830291f2b7fe2b\", element=\"aeecac78-fe53-4a73-92e0-0d508a44f6d4\")>,\n",
       " <selenium.webdriver.remote.webelement.WebElement (session=\"9f2d8e6ef6038adfe9830291f2b7fe2b\", element=\"be78b13b-a663-44e8-9ea3-b1a07cc8feb7\")>]"
      ]
     },
     "execution_count": 60,
     "metadata": {},
     "output_type": "execute_result"
    }
   ],
   "source": [
    "experience_tag3= driver3.find_elements_by_xpath(\"//li[@class='fleft grey-text br2 placeHolderLi experience']/span[1]\")\n",
    "experience_tag3[0:10]"
   ]
  },
  {
   "cell_type": "code",
   "execution_count": 61,
   "id": "9e330bc8",
   "metadata": {},
   "outputs": [
    {
     "data": {
      "text/plain": [
       "['0-2 Yrs',\n",
       " '2-7 Yrs',\n",
       " '4-9 Yrs',\n",
       " '2-5 Yrs',\n",
       " '1-5 Yrs',\n",
       " '4-9 Yrs',\n",
       " '2-6 Yrs',\n",
       " '0-0 Yrs',\n",
       " '2-5 Yrs',\n",
       " '1-5 Yrs']"
      ]
     },
     "execution_count": 61,
     "metadata": {},
     "output_type": "execute_result"
    }
   ],
   "source": [
    "#extract the text\n",
    "for dd in experience_tag3:\n",
    "    experience_required3.append(dd.text)\n",
    "experience_required3= experience_required3[0:10] \n",
    "experience_required3"
   ]
  },
  {
   "cell_type": "code",
   "execution_count": 62,
   "id": "b66707da",
   "metadata": {},
   "outputs": [
    {
     "name": "stdout",
     "output_type": "stream",
     "text": [
      "10 10 10 10\n"
     ]
    }
   ],
   "source": [
    "print(len(job_title3),len(company_name3),len(job_location3),len(experience_required3))"
   ]
  },
  {
   "cell_type": "code",
   "execution_count": 63,
   "id": "3f93b9dc",
   "metadata": {},
   "outputs": [
    {
     "data": {
      "text/html": [
       "<div>\n",
       "<style scoped>\n",
       "    .dataframe tbody tr th:only-of-type {\n",
       "        vertical-align: middle;\n",
       "    }\n",
       "\n",
       "    .dataframe tbody tr th {\n",
       "        vertical-align: top;\n",
       "    }\n",
       "\n",
       "    .dataframe thead th {\n",
       "        text-align: right;\n",
       "    }\n",
       "</style>\n",
       "<table border=\"1\" class=\"dataframe\">\n",
       "  <thead>\n",
       "    <tr style=\"text-align: right;\">\n",
       "      <th></th>\n",
       "      <th>Title3</th>\n",
       "      <th>Company3</th>\n",
       "      <th>Location3</th>\n",
       "      <th>Experience3</th>\n",
       "    </tr>\n",
       "  </thead>\n",
       "  <tbody>\n",
       "    <tr>\n",
       "      <th>0</th>\n",
       "      <td>Data Scientist</td>\n",
       "      <td>LG Electronics India Pvt. Ltd.</td>\n",
       "      <td>Noida, New Delhi, Faridabad, Gurgaon/Gurugram,...</td>\n",
       "      <td>0-2 Yrs</td>\n",
       "    </tr>\n",
       "    <tr>\n",
       "      <th>1</th>\n",
       "      <td>Data Scientist</td>\n",
       "      <td>Navikenz India Pvt Ltd</td>\n",
       "      <td>Noida, Nodia</td>\n",
       "      <td>2-7 Yrs</td>\n",
       "    </tr>\n",
       "    <tr>\n",
       "      <th>2</th>\n",
       "      <td>Hiring For Data Scientist</td>\n",
       "      <td>Tata Consultancy Services Ltd.</td>\n",
       "      <td>Hyderabad/Secunderabad, Pune, Chennai, Bangalo...</td>\n",
       "      <td>4-9 Yrs</td>\n",
       "    </tr>\n",
       "    <tr>\n",
       "      <th>3</th>\n",
       "      <td>Data Scientist/ Senior Data Scientist</td>\n",
       "      <td>Newgen Software Technologies</td>\n",
       "      <td>Noida</td>\n",
       "      <td>2-5 Yrs</td>\n",
       "    </tr>\n",
       "    <tr>\n",
       "      <th>4</th>\n",
       "      <td>Project Manager | Team Leader | Senior Data Sc...</td>\n",
       "      <td>Tidyquant (OPC) Private Limited</td>\n",
       "      <td>Remote</td>\n",
       "      <td>1-5 Yrs</td>\n",
       "    </tr>\n",
       "    <tr>\n",
       "      <th>5</th>\n",
       "      <td>Data Scientist</td>\n",
       "      <td>Teleperformance</td>\n",
       "      <td>Gurgaon/Gurugram, Chennai</td>\n",
       "      <td>4-9 Yrs</td>\n",
       "    </tr>\n",
       "    <tr>\n",
       "      <th>6</th>\n",
       "      <td>Job Opportunity || Data Scientist || HCL Techn...</td>\n",
       "      <td>HCL Technologies</td>\n",
       "      <td>Delhi / NCR</td>\n",
       "      <td>2-6 Yrs</td>\n",
       "    </tr>\n",
       "    <tr>\n",
       "      <th>7</th>\n",
       "      <td>Data Analyst / Data Scientist / Business Analy...</td>\n",
       "      <td>GABA Consultancy services</td>\n",
       "      <td>Noida, Ghaziabad, Delhi / NCR</td>\n",
       "      <td>0-0 Yrs</td>\n",
       "    </tr>\n",
       "    <tr>\n",
       "      <th>8</th>\n",
       "      <td>Data Scientist</td>\n",
       "      <td>The Boston Consulting Group (India) Pvt Limited</td>\n",
       "      <td>New Delhi</td>\n",
       "      <td>2-5 Yrs</td>\n",
       "    </tr>\n",
       "    <tr>\n",
       "      <th>9</th>\n",
       "      <td>Senior Data Scientist</td>\n",
       "      <td>iNICU</td>\n",
       "      <td>Delhi</td>\n",
       "      <td>1-5 Yrs</td>\n",
       "    </tr>\n",
       "  </tbody>\n",
       "</table>\n",
       "</div>"
      ],
      "text/plain": [
       "                                              Title3  \\\n",
       "0                                     Data Scientist   \n",
       "1                                     Data Scientist   \n",
       "2                          Hiring For Data Scientist   \n",
       "3              Data Scientist/ Senior Data Scientist   \n",
       "4  Project Manager | Team Leader | Senior Data Sc...   \n",
       "5                                     Data Scientist   \n",
       "6  Job Opportunity || Data Scientist || HCL Techn...   \n",
       "7  Data Analyst / Data Scientist / Business Analy...   \n",
       "8                                     Data Scientist   \n",
       "9                              Senior Data Scientist   \n",
       "\n",
       "                                          Company3  \\\n",
       "0                   LG Electronics India Pvt. Ltd.   \n",
       "1                           Navikenz India Pvt Ltd   \n",
       "2                   Tata Consultancy Services Ltd.   \n",
       "3                     Newgen Software Technologies   \n",
       "4                  Tidyquant (OPC) Private Limited   \n",
       "5                                  Teleperformance   \n",
       "6                                 HCL Technologies   \n",
       "7                        GABA Consultancy services   \n",
       "8  The Boston Consulting Group (India) Pvt Limited   \n",
       "9                                            iNICU   \n",
       "\n",
       "                                           Location3 Experience3  \n",
       "0  Noida, New Delhi, Faridabad, Gurgaon/Gurugram,...     0-2 Yrs  \n",
       "1                                       Noida, Nodia     2-7 Yrs  \n",
       "2  Hyderabad/Secunderabad, Pune, Chennai, Bangalo...     4-9 Yrs  \n",
       "3                                              Noida     2-5 Yrs  \n",
       "4                                             Remote     1-5 Yrs  \n",
       "5                          Gurgaon/Gurugram, Chennai     4-9 Yrs  \n",
       "6                                        Delhi / NCR     2-6 Yrs  \n",
       "7                      Noida, Ghaziabad, Delhi / NCR     0-0 Yrs  \n",
       "8                                          New Delhi     2-5 Yrs  \n",
       "9                                              Delhi     1-5 Yrs  "
      ]
     },
     "execution_count": 63,
     "metadata": {},
     "output_type": "execute_result"
    }
   ],
   "source": [
    "# creating a DAtaFrame\n",
    "df3 = pd.DataFrame({'Title3':job_title3,'Company3':company_name3,'Location3':job_location3,'Experience3':experience_required3})\n",
    "df3"
   ]
  },
  {
   "cell_type": "code",
   "execution_count": 64,
   "id": "f6af11c9",
   "metadata": {},
   "outputs": [],
   "source": [
    "df3.to_csv('Data Scientist job by filter.csv',index=False)"
   ]
  },
  {
   "cell_type": "markdown",
   "id": "2752ace3",
   "metadata": {},
   "source": [
    "Q4 Q4: Scrape data of first 100 sunglasses listings on flipkart.com. You have to scrape four attributes: \n",
    "1. Brand \n",
    "2. Product Description \n",
    "3. Price \n",
    "The attributes which you have to scrape is ticked marked in the below image. \n",
    "To scrape the data you have to go through following steps: \n",
    "1. Go to Flipkart webpage by url : https://www.flipkart.com/\n",
    "2. Enter “sunglasses” in the search field where “search for products, brands and more” is written and \n",
    "click the search icon \n",
    "3. After that you will reach to the page having a lot of sunglasses. From this page you can scrap the \n",
    "required data as usual. \n",
    "ASSIGNMENT 2\n",
    "4. After scraping data from the first page, go to the “Next” Button at the bottom of the page , then \n",
    "click on it. \n",
    "5. Now scrape data from this page as usual \n",
    "6. Repeat this until you get data for 100 sunglasses."
   ]
  },
  {
   "cell_type": "code",
   "execution_count": 1,
   "id": "8c032286",
   "metadata": {},
   "outputs": [],
   "source": [
    "import pandas as pd\n",
    "import selenium\n",
    "from selenium import webdriver"
   ]
  },
  {
   "cell_type": "code",
   "execution_count": 13,
   "id": "8ab71d01",
   "metadata": {},
   "outputs": [
    {
     "name": "stderr",
     "output_type": "stream",
     "text": [
      "<ipython-input-13-1e08e3908907>:2: DeprecationWarning: executable_path has been deprecated, please pass in a Service object\n",
      "  driver4= webdriver.Chrome(r\"C:/Users/LENOVO/Downloads/chromedriver_win32/chromedriver\")\n"
     ]
    }
   ],
   "source": [
    "# Connect to the webdriver\n",
    "driver4= webdriver.Chrome(r\"C:/Users/LENOVO/Downloads/chromedriver_win32/chromedriver\")"
   ]
  },
  {
   "cell_type": "code",
   "execution_count": 14,
   "id": "499f4fe4",
   "metadata": {},
   "outputs": [],
   "source": [
    "driver4.get('https://www.flipkart.com')"
   ]
  },
  {
   "cell_type": "code",
   "execution_count": 16,
   "id": "97d00a14",
   "metadata": {},
   "outputs": [
    {
     "name": "stderr",
     "output_type": "stream",
     "text": [
      "<ipython-input-16-e4bf79c36369>:1: DeprecationWarning: find_element_by_* commands are deprecated. Please use find_element() instead\n",
      "  search_sunglasses= driver4.find_element_by_name('q')\n"
     ]
    }
   ],
   "source": [
    "search_sunglasses= driver4.find_element_by_name('q')\n",
    "search_sunglasses.send_keys(\"sunglasses\")"
   ]
  },
  {
   "cell_type": "code",
   "execution_count": 19,
   "id": "0ba0c63f",
   "metadata": {},
   "outputs": [
    {
     "name": "stderr",
     "output_type": "stream",
     "text": [
      "<ipython-input-19-b83578b5f3c0>:1: DeprecationWarning: find_element_by_* commands are deprecated. Please use find_element() instead\n",
      "  search_icon= driver4.find_element_by_xpath(\"//button[@class='L0Z3Pu']\")\n"
     ]
    }
   ],
   "source": [
    "search_icon= driver4.find_element_by_xpath(\"//button[@class='L0Z3Pu']\")\n",
    "search_icon.click()"
   ]
  },
  {
   "cell_type": "code",
   "execution_count": 22,
   "id": "6c780f15",
   "metadata": {},
   "outputs": [
    {
     "name": "stderr",
     "output_type": "stream",
     "text": [
      "<ipython-input-22-96dcb69794b0>:1: DeprecationWarning: find_elements_by_* commands are deprecated. Please use find_elements() instead\n",
      "  product= driver4.find_elements_by_id('SGLGFJT85XV3HXJF')\n"
     ]
    },
    {
     "data": {
      "text/plain": [
       "[]"
      ]
     },
     "execution_count": 22,
     "metadata": {},
     "output_type": "execute_result"
    }
   ],
   "source": [
    "product= driver4.find_elements_by_id('SGLGFJT85XV3HXJF')\n",
    "product"
   ]
  },
  {
   "cell_type": "code",
   "execution_count": null,
   "id": "0431ab9a",
   "metadata": {},
   "outputs": [],
   "source": []
  }
 ],
 "metadata": {
  "kernelspec": {
   "display_name": "Python 3",
   "language": "python",
   "name": "python3"
  },
  "language_info": {
   "codemirror_mode": {
    "name": "ipython",
    "version": 3
   },
   "file_extension": ".py",
   "mimetype": "text/x-python",
   "name": "python",
   "nbconvert_exporter": "python",
   "pygments_lexer": "ipython3",
   "version": "3.8.8"
  }
 },
 "nbformat": 4,
 "nbformat_minor": 5
}
